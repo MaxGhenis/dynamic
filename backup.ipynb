{
 "cells": [
  {
   "cell_type": "markdown",
   "metadata": {},
   "source": [
    "# Effect of UBI on labor supply in OG-USA small open economy\n",
    "\n",
    "Testing the income effect.\n",
    "\n",
    "Goals:\n",
    "\n",
    "* What's the implied income effect when\n",
    "* How does this vary with frisch and epsilon?\n",
    "* How does this compare to microeconometric studies on the income effect?\n",
    "* How does it compare to other models like CBO and PWBM?\n",
    "* How does it vary with lifetime income level and age?\n",
    "\n",
    "Intermediate questions:\n",
    "* What is the range of the implied UBI based on its ETR effect? Is it roughly the `taxcalc`-supplied UBI value multiplied by the number of people per tax unit?\n",
    "* What's the overall labor response to the \\$1,000 UBI across lifetime income groups and age?\n",
    "\n",
    "## Setup"
   ]
  },
  {
   "cell_type": "code",
   "execution_count": 41,
   "metadata": {},
   "outputs": [],
   "source": [
    "import pandas as pd\n",
    "import numpy as np\n",
    "import ogusa\n",
    "import plotly.express as px"
   ]
  },
  {
   "cell_type": "code",
   "execution_count": 114,
   "metadata": {},
   "outputs": [
    {
     "ename": "FileNotFoundError",
     "evalue": "[Errno 2] No such file or directory: 'OUTPUT_BASE/model_params.pkl'",
     "output_type": "error",
     "traceback": [
      "\u001b[0;31m---------------------------------------------------------------------------\u001b[0m",
      "\u001b[0;31mFileNotFoundError\u001b[0m                         Traceback (most recent call last)",
      "\u001b[0;32m<ipython-input-114-c1dc5f3d994e>\u001b[0m in \u001b[0;36m<module>\u001b[0;34m\u001b[0m\n\u001b[1;32m      1\u001b[0m \u001b[0mbase\u001b[0m \u001b[0;34m=\u001b[0m \u001b[0mpd\u001b[0m\u001b[0;34m.\u001b[0m\u001b[0mread_pickle\u001b[0m\u001b[0;34m(\u001b[0m\u001b[0;34m'OUTPUT_BASELINE/SS/SS_vars.pkl'\u001b[0m\u001b[0;34m)\u001b[0m\u001b[0;34m\u001b[0m\u001b[0;34m\u001b[0m\u001b[0m\n\u001b[1;32m      2\u001b[0m \u001b[0mreform\u001b[0m \u001b[0;34m=\u001b[0m \u001b[0mpd\u001b[0m\u001b[0;34m.\u001b[0m\u001b[0mread_pickle\u001b[0m\u001b[0;34m(\u001b[0m\u001b[0;34m'OUTPUT_REFORM/SS/SS_vars.pkl'\u001b[0m\u001b[0;34m)\u001b[0m\u001b[0;34m\u001b[0m\u001b[0;34m\u001b[0m\u001b[0m\n\u001b[0;32m----> 3\u001b[0;31m \u001b[0mbase_params\u001b[0m \u001b[0;34m=\u001b[0m \u001b[0mpd\u001b[0m\u001b[0;34m.\u001b[0m\u001b[0mread_pickle\u001b[0m\u001b[0;34m(\u001b[0m\u001b[0;34m'OUTPUT_BASE/model_params.pkl'\u001b[0m\u001b[0;34m)\u001b[0m\u001b[0;34m\u001b[0m\u001b[0;34m\u001b[0m\u001b[0m\n\u001b[0m\u001b[1;32m      4\u001b[0m \u001b[0mreform_params\u001b[0m \u001b[0;34m=\u001b[0m \u001b[0mpd\u001b[0m\u001b[0;34m.\u001b[0m\u001b[0mread_pickle\u001b[0m\u001b[0;34m(\u001b[0m\u001b[0;34m'OUTPUT_REFORM/model_params.pkl'\u001b[0m\u001b[0;34m)\u001b[0m\u001b[0;34m\u001b[0m\u001b[0;34m\u001b[0m\u001b[0m\n",
      "\u001b[0;32m~/UBICenter/dynamic/ubi-ogusa/lib/python3.7/site-packages/pandas/io/pickle.py\u001b[0m in \u001b[0;36mread_pickle\u001b[0;34m(filepath_or_buffer, compression)\u001b[0m\n",
      "\u001b[0;32m~/UBICenter/dynamic/ubi-ogusa/lib/python3.7/site-packages/pandas/io/common.py\u001b[0m in \u001b[0;36mget_handle\u001b[0;34m(path_or_buf, mode, encoding, compression, memory_map, is_text, errors)\u001b[0m\n",
      "\u001b[0;31mFileNotFoundError\u001b[0m: [Errno 2] No such file or directory: 'OUTPUT_BASE/model_params.pkl'"
     ]
    }
   ],
   "source": [
    "base = pd.read_pickle('OUTPUT_BASELINE/SS/SS_vars.pkl')\n",
    "reform = pd.read_pickle('OUTPUT_REFORM/SS/SS_vars.pkl')\n",
    "reform_params = pd.read_pickle('OUTPUT_REFORM/model_params.pkl')"
   ]
  },
  {
   "cell_type": "markdown",
   "metadata": {},
   "source": [
    "## Show labor responses\n",
    "\n",
    "As a precursor to elasticities. These are in response to a \\$1,000-per-year-per-person (including children) UBI."
   ]
  },
  {
   "cell_type": "code",
   "execution_count": 102,
   "metadata": {},
   "outputs": [],
   "source": [
    "nss_diff = pd.DataFrame(reform['nssmat'] / base['nssmat'] - 1)\\\n",
    "    .reset_index().melt('index')\n",
    "nss_diff.columns = ['age', 'skill', 'n_diff']\n",
    "nss_diff['n_diff_pct'] = (nss_diff.n_diff * 100).round(2)\n",
    "nss_diff.skill = nss_diff.skill.astype(int)\n",
    "# Age starts at 21.\n",
    "nss_diff.age += 21"
   ]
  },
  {
   "cell_type": "code",
   "execution_count": 106,
   "metadata": {},
   "outputs": [
    {
     "data": {
      "application/vnd.plotly.v1+json": {
       "config": {
        "plotlyServerURL": "https://plot.ly"
       },
       "data": [
        {
         "legendgroup": "0",
         "line": {
          "color": "#440154",
          "dash": "solid"
         },
         "mode": "lines",
         "name": "0",
         "orientation": "v",
         "showlegend": true,
         "type": "scatter",
         "x": [
          21,
          22,
          23,
          24,
          25,
          26,
          27,
          28,
          29,
          30,
          31,
          32,
          33,
          34,
          35,
          36,
          37,
          38,
          39,
          40,
          41,
          42,
          43,
          44,
          45,
          46,
          47,
          48,
          49,
          50,
          51,
          52,
          53,
          54,
          55,
          56,
          57,
          58,
          59,
          60,
          61,
          62,
          63,
          64,
          65,
          66,
          67,
          68,
          69,
          70,
          71,
          72,
          73,
          74,
          75,
          76,
          77,
          78,
          79,
          80,
          81,
          82,
          83,
          84,
          85,
          86,
          87,
          88,
          89,
          90,
          91,
          92,
          93,
          94,
          95,
          96,
          97,
          98,
          99,
          100
         ],
         "xaxis": "x",
         "y": [
          -2.81,
          -3.13,
          -3.15,
          -3.34,
          -3.48,
          -3.67,
          -3.79,
          -3.96,
          -4.17,
          -4.34,
          -4.47,
          -4.56,
          -4.63,
          -4.64,
          -4.69,
          -4.68,
          -4.59,
          -4.52,
          -4.41,
          -4.29,
          -4.22,
          -4.14,
          -4,
          -3.85,
          -3.7,
          -3.54,
          -3.43,
          -3.28,
          -3.12,
          -2.98,
          -2.86,
          -2.75,
          -2.65,
          -2.56,
          -2.51,
          -2.41,
          -2.32,
          -2.26,
          -2.2,
          -2.17,
          -2.13,
          -2.11,
          -2.09,
          -1.92,
          -1.88,
          -1.87,
          -1.85,
          -1.82,
          -1.8,
          -1.77,
          -1.61,
          -1.64,
          -1.53,
          -1.5,
          -1.48,
          -1.4,
          -1.28,
          -1.16,
          -0.99,
          -0.98,
          -0.89,
          -0.88,
          -0.91,
          -1,
          -0.98,
          -0.97,
          -0.96,
          -0.95,
          -0.94,
          -0.93,
          -0.93,
          -0.92,
          -0.92,
          -0.91,
          -0.91,
          -0.91,
          -0.9,
          -0.88,
          -0.85,
          -0.79
         ],
         "yaxis": "y"
        },
        {
         "legendgroup": "1",
         "line": {
          "color": "#482878",
          "dash": "solid"
         },
         "mode": "lines",
         "name": "1",
         "orientation": "v",
         "showlegend": true,
         "type": "scatter",
         "x": [
          21,
          22,
          23,
          24,
          25,
          26,
          27,
          28,
          29,
          30,
          31,
          32,
          33,
          34,
          35,
          36,
          37,
          38,
          39,
          40,
          41,
          42,
          43,
          44,
          45,
          46,
          47,
          48,
          49,
          50,
          51,
          52,
          53,
          54,
          55,
          56,
          57,
          58,
          59,
          60,
          61,
          62,
          63,
          64,
          65,
          66,
          67,
          68,
          69,
          70,
          71,
          72,
          73,
          74,
          75,
          76,
          77,
          78,
          79,
          80,
          81,
          82,
          83,
          84,
          85,
          86,
          87,
          88,
          89,
          90,
          91,
          92,
          93,
          94,
          95,
          96,
          97,
          98,
          99,
          100
         ],
         "xaxis": "x",
         "y": [
          -3.64,
          -3.72,
          -3.64,
          -3.76,
          -3.77,
          -3.86,
          -3.9,
          -3.98,
          -4.11,
          -4.19,
          -4.24,
          -4.26,
          -4.24,
          -4.16,
          -4.11,
          -4.03,
          -3.91,
          -3.76,
          -3.58,
          -3.41,
          -3.3,
          -3.17,
          -3.01,
          -2.86,
          -2.71,
          -2.58,
          -2.47,
          -2.35,
          -2.24,
          -2.16,
          -2.09,
          -2.02,
          -1.98,
          -1.95,
          -1.94,
          -1.93,
          -1.91,
          -1.92,
          -1.96,
          -1.99,
          -2.09,
          -2.19,
          -2.27,
          -2.2,
          -2.26,
          -2.32,
          -2.36,
          -2.38,
          -2.4,
          -2.4,
          -2.28,
          -2.33,
          -2.23,
          -2.19,
          -2.19,
          -2.12,
          -2.01,
          -1.91,
          -1.75,
          -1.75,
          -1.69,
          -1.7,
          -1.73,
          -1.8,
          -1.76,
          -1.72,
          -1.69,
          -1.66,
          -1.63,
          -1.61,
          -1.59,
          -1.57,
          -1.55,
          -1.54,
          -1.53,
          -1.51,
          -1.5,
          -1.47,
          -1.44,
          -1.39
         ],
         "yaxis": "y"
        },
        {
         "legendgroup": "2",
         "line": {
          "color": "#3e4989",
          "dash": "solid"
         },
         "mode": "lines",
         "name": "2",
         "orientation": "v",
         "showlegend": true,
         "type": "scatter",
         "x": [
          21,
          22,
          23,
          24,
          25,
          26,
          27,
          28,
          29,
          30,
          31,
          32,
          33,
          34,
          35,
          36,
          37,
          38,
          39,
          40,
          41,
          42,
          43,
          44,
          45,
          46,
          47,
          48,
          49,
          50,
          51,
          52,
          53,
          54,
          55,
          56,
          57,
          58,
          59,
          60,
          61,
          62,
          63,
          64,
          65,
          66,
          67,
          68,
          69,
          70,
          71,
          72,
          73,
          74,
          75,
          76,
          77,
          78,
          79,
          80,
          81,
          82,
          83,
          84,
          85,
          86,
          87,
          88,
          89,
          90,
          91,
          92,
          93,
          94,
          95,
          96,
          97,
          98,
          99,
          100
         ],
         "xaxis": "x",
         "y": [
          -3.76,
          -3.77,
          -3.61,
          -3.64,
          -3.57,
          -3.58,
          -3.54,
          -3.57,
          -3.6,
          -3.59,
          -3.56,
          -3.51,
          -3.45,
          -3.34,
          -3.26,
          -3.17,
          -3.08,
          -2.92,
          -2.75,
          -2.6,
          -2.5,
          -2.39,
          -2.27,
          -2.16,
          -2.06,
          -2,
          -1.93,
          -1.87,
          -1.83,
          -1.82,
          -1.8,
          -1.78,
          -1.79,
          -1.82,
          -1.85,
          -1.92,
          -1.95,
          -2.02,
          -2.12,
          -2.21,
          -2.41,
          -2.63,
          -2.79,
          -2.81,
          -2.96,
          -3.11,
          -3.23,
          -3.32,
          -3.4,
          -3.45,
          -3.4,
          -3.5,
          -3.43,
          -3.41,
          -3.45,
          -3.44,
          -3.37,
          -3.31,
          -3.2,
          -3.25,
          -3.25,
          -3.29,
          -3.32,
          -3.32,
          -3.18,
          -3.05,
          -2.94,
          -2.84,
          -2.76,
          -2.69,
          -2.63,
          -2.57,
          -2.54,
          -2.5,
          -2.47,
          -2.44,
          -2.42,
          -2.4,
          -2.37,
          -2.33
         ],
         "yaxis": "y"
        },
        {
         "legendgroup": "3",
         "line": {
          "color": "#31688e",
          "dash": "solid"
         },
         "mode": "lines",
         "name": "3",
         "orientation": "v",
         "showlegend": true,
         "type": "scatter",
         "x": [
          21,
          22,
          23,
          24,
          25,
          26,
          27,
          28,
          29,
          30,
          31,
          32,
          33,
          34,
          35,
          36,
          37,
          38,
          39,
          40,
          41,
          42,
          43,
          44,
          45,
          46,
          47,
          48,
          49,
          50,
          51,
          52,
          53,
          54,
          55,
          56,
          57,
          58,
          59,
          60,
          61,
          62,
          63,
          64,
          65,
          66,
          67,
          68,
          69,
          70,
          71,
          72,
          73,
          74,
          75,
          76,
          77,
          78,
          79,
          80,
          81,
          82,
          83,
          84,
          85,
          86,
          87,
          88,
          89,
          90,
          91,
          92,
          93,
          94,
          95,
          96,
          97,
          98,
          99,
          100
         ],
         "xaxis": "x",
         "y": [
          -3.61,
          -3.59,
          -3.36,
          -3.34,
          -3.24,
          -3.21,
          -3.12,
          -3.11,
          -3.09,
          -3.02,
          -2.92,
          -2.85,
          -2.76,
          -2.67,
          -2.58,
          -2.5,
          -2.46,
          -2.3,
          -2.15,
          -2.02,
          -1.96,
          -1.87,
          -1.78,
          -1.71,
          -1.65,
          -1.63,
          -1.58,
          -1.57,
          -1.59,
          -1.61,
          -1.63,
          -1.65,
          -1.69,
          -1.75,
          -1.81,
          -1.92,
          -1.98,
          -2.08,
          -2.22,
          -2.33,
          -2.6,
          -2.88,
          -3.08,
          -3.13,
          -3.32,
          -3.5,
          -3.64,
          -3.75,
          -3.85,
          -3.92,
          -3.89,
          -3.99,
          -3.92,
          -3.9,
          -3.95,
          -3.95,
          -3.9,
          -3.85,
          -3.75,
          -3.82,
          -3.83,
          -3.89,
          -3.9,
          -3.85,
          -3.63,
          -3.44,
          -3.27,
          -3.11,
          -2.98,
          -2.86,
          -2.75,
          -2.66,
          -2.59,
          -2.52,
          -2.47,
          -2.43,
          -2.4,
          -2.38,
          -2.36,
          -2.33
         ],
         "yaxis": "y"
        },
        {
         "legendgroup": "4",
         "line": {
          "color": "#26828e",
          "dash": "solid"
         },
         "mode": "lines",
         "name": "4",
         "orientation": "v",
         "showlegend": true,
         "type": "scatter",
         "x": [
          21,
          22,
          23,
          24,
          25,
          26,
          27,
          28,
          29,
          30,
          31,
          32,
          33,
          34,
          35,
          36,
          37,
          38,
          39,
          40,
          41,
          42,
          43,
          44,
          45,
          46,
          47,
          48,
          49,
          50,
          51,
          52,
          53,
          54,
          55,
          56,
          57,
          58,
          59,
          60,
          61,
          62,
          63,
          64,
          65,
          66,
          67,
          68,
          69,
          70,
          71,
          72,
          73,
          74,
          75,
          76,
          77,
          78,
          79,
          80,
          81,
          82,
          83,
          84,
          85,
          86,
          87,
          88,
          89,
          90,
          91,
          92,
          93,
          94,
          95,
          96,
          97,
          98,
          99,
          100
         ],
         "xaxis": "x",
         "y": [
          -3.39,
          -3.37,
          -3.1,
          -3.03,
          -2.92,
          -2.89,
          -2.76,
          -2.74,
          -2.68,
          -2.57,
          -2.45,
          -2.35,
          -2.27,
          -2.19,
          -2.11,
          -2.05,
          -2.06,
          -1.91,
          -1.78,
          -1.68,
          -1.64,
          -1.56,
          -1.5,
          -1.46,
          -1.43,
          -1.45,
          -1.41,
          -1.43,
          -1.48,
          -1.54,
          -1.59,
          -1.62,
          -1.68,
          -1.77,
          -1.85,
          -2,
          -2.08,
          -2.2,
          -2.37,
          -2.5,
          -2.83,
          -3.17,
          -3.42,
          -3.49,
          -3.71,
          -3.92,
          -4.09,
          -4.22,
          -4.34,
          -4.42,
          -4.4,
          -4.52,
          -4.44,
          -4.4,
          -4.46,
          -4.47,
          -4.44,
          -4.41,
          -4.33,
          -4.42,
          -4.46,
          -4.53,
          -4.54,
          -4.47,
          -4.23,
          -4.02,
          -3.84,
          -3.68,
          -3.54,
          -3.42,
          -3.31,
          -3.21,
          -3.14,
          -3.07,
          -3.01,
          -2.96,
          -2.91,
          -2.87,
          -2.83,
          -2.8
         ],
         "yaxis": "y"
        },
        {
         "legendgroup": "5",
         "line": {
          "color": "#1f9e89",
          "dash": "solid"
         },
         "mode": "lines",
         "name": "5",
         "orientation": "v",
         "showlegend": true,
         "type": "scatter",
         "x": [
          21,
          22,
          23,
          24,
          25,
          26,
          27,
          28,
          29,
          30,
          31,
          32,
          33,
          34,
          35,
          36,
          37,
          38,
          39,
          40,
          41,
          42,
          43,
          44,
          45,
          46,
          47,
          48,
          49,
          50,
          51,
          52,
          53,
          54,
          55,
          56,
          57,
          58,
          59,
          60,
          61,
          62,
          63,
          64,
          65,
          66,
          67,
          68,
          69,
          70,
          71,
          72,
          73,
          74,
          75,
          76,
          77,
          78,
          79,
          80,
          81,
          82,
          83,
          84,
          85,
          86,
          87,
          88,
          89,
          90,
          91,
          92,
          93,
          94,
          95,
          96,
          97,
          98,
          99,
          100
         ],
         "xaxis": "x",
         "y": [
          -2.42,
          -2.6,
          -2.36,
          -2.3,
          -2.25,
          -2.27,
          -2.13,
          -2.11,
          -2.03,
          -1.9,
          -1.76,
          -1.66,
          -1.58,
          -1.52,
          -1.44,
          -1.39,
          -1.46,
          -1.3,
          -1.18,
          -1.09,
          -1.08,
          -1.01,
          -0.96,
          -0.96,
          -0.97,
          -1.05,
          -1.02,
          -1.11,
          -1.24,
          -1.39,
          -1.52,
          -1.62,
          -1.75,
          -1.9,
          -2.05,
          -2.33,
          -2.39,
          -2.55,
          -2.75,
          -2.87,
          -3.32,
          -3.77,
          -4.02,
          -4.03,
          -4.21,
          -4.38,
          -4.51,
          -4.59,
          -4.66,
          -4.69,
          -4.65,
          -4.73,
          -4.62,
          -4.54,
          -4.55,
          -4.5,
          -4.46,
          -4.4,
          -4.28,
          -4.33,
          -4.35,
          -4.4,
          -4.43,
          -4.42,
          -4.29,
          -4.17,
          -4.06,
          -3.95,
          -3.86,
          -3.77,
          -3.69,
          -3.61,
          -3.55,
          -3.49,
          -3.43,
          -3.38,
          -3.33,
          -3.29,
          -3.25,
          -3.21
         ],
         "yaxis": "y"
        },
        {
         "legendgroup": "6",
         "line": {
          "color": "#35b779",
          "dash": "solid"
         },
         "mode": "lines",
         "name": "6",
         "orientation": "v",
         "showlegend": true,
         "type": "scatter",
         "x": [
          21,
          22,
          23,
          24,
          25,
          26,
          27,
          28,
          29,
          30,
          31,
          32,
          33,
          34,
          35,
          36,
          37,
          38,
          39,
          40,
          41,
          42,
          43,
          44,
          45,
          46,
          47,
          48,
          49,
          50,
          51,
          52,
          53,
          54,
          55,
          56,
          57,
          58,
          59,
          60,
          61,
          62,
          63,
          64,
          65,
          66,
          67,
          68,
          69,
          70,
          71,
          72,
          73,
          74,
          75,
          76,
          77,
          78,
          79,
          80,
          81,
          82,
          83,
          84,
          85,
          86,
          87,
          88,
          89,
          90,
          91,
          92,
          93,
          94,
          95,
          96,
          97,
          98,
          99,
          100
         ],
         "xaxis": "x",
         "y": [
          -0.56,
          -1.27,
          -1.08,
          -1.11,
          -1,
          -1.09,
          -0.76,
          -0.67,
          -0.53,
          -0.39,
          -0.22,
          -0.01,
          0.02,
          0.11,
          0.15,
          0.18,
          -0.11,
          -0.01,
          0.01,
          -0.03,
          -0.15,
          -0.15,
          -0.21,
          -0.38,
          -0.54,
          -0.77,
          -0.77,
          -1,
          -1.29,
          -1.58,
          -1.8,
          -1.94,
          -2.09,
          -2.21,
          -2.38,
          -2.71,
          -2.68,
          -2.78,
          -2.89,
          -2.87,
          -3.37,
          -3.86,
          -4.05,
          -3.93,
          -4.06,
          -4.17,
          -4.27,
          -4.33,
          -4.39,
          -4.42,
          -4.38,
          -4.48,
          -4.35,
          -4.27,
          -4.27,
          -4.24,
          -4.26,
          -4.23,
          -4.13,
          -4.22,
          -4.3,
          -4.4,
          -4.46,
          -4.5,
          -4.43,
          -4.37,
          -4.31,
          -4.26,
          -4.21,
          -4.17,
          -4.13,
          -4.09,
          -4.05,
          -4.02,
          -3.99,
          -3.96,
          -3.94,
          -3.92,
          -3.9,
          -3.88
         ],
         "yaxis": "y"
        }
       ],
       "layout": {
        "font": {
         "family": "Roboto"
        },
        "hovermode": "x",
        "legend": {
         "title": {
          "text": "Lifetime income group"
         },
         "tracegroupgap": 0
        },
        "margin": {
         "t": 60
        },
        "plot_bgcolor": "white",
        "template": {
         "data": {
          "bar": [
           {
            "error_x": {
             "color": "#2a3f5f"
            },
            "error_y": {
             "color": "#2a3f5f"
            },
            "marker": {
             "line": {
              "color": "#E5ECF6",
              "width": 0.5
             }
            },
            "type": "bar"
           }
          ],
          "barpolar": [
           {
            "marker": {
             "line": {
              "color": "#E5ECF6",
              "width": 0.5
             }
            },
            "type": "barpolar"
           }
          ],
          "carpet": [
           {
            "aaxis": {
             "endlinecolor": "#2a3f5f",
             "gridcolor": "white",
             "linecolor": "white",
             "minorgridcolor": "white",
             "startlinecolor": "#2a3f5f"
            },
            "baxis": {
             "endlinecolor": "#2a3f5f",
             "gridcolor": "white",
             "linecolor": "white",
             "minorgridcolor": "white",
             "startlinecolor": "#2a3f5f"
            },
            "type": "carpet"
           }
          ],
          "choropleth": [
           {
            "colorbar": {
             "outlinewidth": 0,
             "ticks": ""
            },
            "type": "choropleth"
           }
          ],
          "contour": [
           {
            "colorbar": {
             "outlinewidth": 0,
             "ticks": ""
            },
            "colorscale": [
             [
              0,
              "#0d0887"
             ],
             [
              0.1111111111111111,
              "#46039f"
             ],
             [
              0.2222222222222222,
              "#7201a8"
             ],
             [
              0.3333333333333333,
              "#9c179e"
             ],
             [
              0.4444444444444444,
              "#bd3786"
             ],
             [
              0.5555555555555556,
              "#d8576b"
             ],
             [
              0.6666666666666666,
              "#ed7953"
             ],
             [
              0.7777777777777778,
              "#fb9f3a"
             ],
             [
              0.8888888888888888,
              "#fdca26"
             ],
             [
              1,
              "#f0f921"
             ]
            ],
            "type": "contour"
           }
          ],
          "contourcarpet": [
           {
            "colorbar": {
             "outlinewidth": 0,
             "ticks": ""
            },
            "type": "contourcarpet"
           }
          ],
          "heatmap": [
           {
            "colorbar": {
             "outlinewidth": 0,
             "ticks": ""
            },
            "colorscale": [
             [
              0,
              "#0d0887"
             ],
             [
              0.1111111111111111,
              "#46039f"
             ],
             [
              0.2222222222222222,
              "#7201a8"
             ],
             [
              0.3333333333333333,
              "#9c179e"
             ],
             [
              0.4444444444444444,
              "#bd3786"
             ],
             [
              0.5555555555555556,
              "#d8576b"
             ],
             [
              0.6666666666666666,
              "#ed7953"
             ],
             [
              0.7777777777777778,
              "#fb9f3a"
             ],
             [
              0.8888888888888888,
              "#fdca26"
             ],
             [
              1,
              "#f0f921"
             ]
            ],
            "type": "heatmap"
           }
          ],
          "heatmapgl": [
           {
            "colorbar": {
             "outlinewidth": 0,
             "ticks": ""
            },
            "colorscale": [
             [
              0,
              "#0d0887"
             ],
             [
              0.1111111111111111,
              "#46039f"
             ],
             [
              0.2222222222222222,
              "#7201a8"
             ],
             [
              0.3333333333333333,
              "#9c179e"
             ],
             [
              0.4444444444444444,
              "#bd3786"
             ],
             [
              0.5555555555555556,
              "#d8576b"
             ],
             [
              0.6666666666666666,
              "#ed7953"
             ],
             [
              0.7777777777777778,
              "#fb9f3a"
             ],
             [
              0.8888888888888888,
              "#fdca26"
             ],
             [
              1,
              "#f0f921"
             ]
            ],
            "type": "heatmapgl"
           }
          ],
          "histogram": [
           {
            "marker": {
             "colorbar": {
              "outlinewidth": 0,
              "ticks": ""
             }
            },
            "type": "histogram"
           }
          ],
          "histogram2d": [
           {
            "colorbar": {
             "outlinewidth": 0,
             "ticks": ""
            },
            "colorscale": [
             [
              0,
              "#0d0887"
             ],
             [
              0.1111111111111111,
              "#46039f"
             ],
             [
              0.2222222222222222,
              "#7201a8"
             ],
             [
              0.3333333333333333,
              "#9c179e"
             ],
             [
              0.4444444444444444,
              "#bd3786"
             ],
             [
              0.5555555555555556,
              "#d8576b"
             ],
             [
              0.6666666666666666,
              "#ed7953"
             ],
             [
              0.7777777777777778,
              "#fb9f3a"
             ],
             [
              0.8888888888888888,
              "#fdca26"
             ],
             [
              1,
              "#f0f921"
             ]
            ],
            "type": "histogram2d"
           }
          ],
          "histogram2dcontour": [
           {
            "colorbar": {
             "outlinewidth": 0,
             "ticks": ""
            },
            "colorscale": [
             [
              0,
              "#0d0887"
             ],
             [
              0.1111111111111111,
              "#46039f"
             ],
             [
              0.2222222222222222,
              "#7201a8"
             ],
             [
              0.3333333333333333,
              "#9c179e"
             ],
             [
              0.4444444444444444,
              "#bd3786"
             ],
             [
              0.5555555555555556,
              "#d8576b"
             ],
             [
              0.6666666666666666,
              "#ed7953"
             ],
             [
              0.7777777777777778,
              "#fb9f3a"
             ],
             [
              0.8888888888888888,
              "#fdca26"
             ],
             [
              1,
              "#f0f921"
             ]
            ],
            "type": "histogram2dcontour"
           }
          ],
          "mesh3d": [
           {
            "colorbar": {
             "outlinewidth": 0,
             "ticks": ""
            },
            "type": "mesh3d"
           }
          ],
          "parcoords": [
           {
            "line": {
             "colorbar": {
              "outlinewidth": 0,
              "ticks": ""
             }
            },
            "type": "parcoords"
           }
          ],
          "pie": [
           {
            "automargin": true,
            "type": "pie"
           }
          ],
          "scatter": [
           {
            "marker": {
             "colorbar": {
              "outlinewidth": 0,
              "ticks": ""
             }
            },
            "type": "scatter"
           }
          ],
          "scatter3d": [
           {
            "line": {
             "colorbar": {
              "outlinewidth": 0,
              "ticks": ""
             }
            },
            "marker": {
             "colorbar": {
              "outlinewidth": 0,
              "ticks": ""
             }
            },
            "type": "scatter3d"
           }
          ],
          "scattercarpet": [
           {
            "marker": {
             "colorbar": {
              "outlinewidth": 0,
              "ticks": ""
             }
            },
            "type": "scattercarpet"
           }
          ],
          "scattergeo": [
           {
            "marker": {
             "colorbar": {
              "outlinewidth": 0,
              "ticks": ""
             }
            },
            "type": "scattergeo"
           }
          ],
          "scattergl": [
           {
            "marker": {
             "colorbar": {
              "outlinewidth": 0,
              "ticks": ""
             }
            },
            "type": "scattergl"
           }
          ],
          "scattermapbox": [
           {
            "marker": {
             "colorbar": {
              "outlinewidth": 0,
              "ticks": ""
             }
            },
            "type": "scattermapbox"
           }
          ],
          "scatterpolar": [
           {
            "marker": {
             "colorbar": {
              "outlinewidth": 0,
              "ticks": ""
             }
            },
            "type": "scatterpolar"
           }
          ],
          "scatterpolargl": [
           {
            "marker": {
             "colorbar": {
              "outlinewidth": 0,
              "ticks": ""
             }
            },
            "type": "scatterpolargl"
           }
          ],
          "scatterternary": [
           {
            "marker": {
             "colorbar": {
              "outlinewidth": 0,
              "ticks": ""
             }
            },
            "type": "scatterternary"
           }
          ],
          "surface": [
           {
            "colorbar": {
             "outlinewidth": 0,
             "ticks": ""
            },
            "colorscale": [
             [
              0,
              "#0d0887"
             ],
             [
              0.1111111111111111,
              "#46039f"
             ],
             [
              0.2222222222222222,
              "#7201a8"
             ],
             [
              0.3333333333333333,
              "#9c179e"
             ],
             [
              0.4444444444444444,
              "#bd3786"
             ],
             [
              0.5555555555555556,
              "#d8576b"
             ],
             [
              0.6666666666666666,
              "#ed7953"
             ],
             [
              0.7777777777777778,
              "#fb9f3a"
             ],
             [
              0.8888888888888888,
              "#fdca26"
             ],
             [
              1,
              "#f0f921"
             ]
            ],
            "type": "surface"
           }
          ],
          "table": [
           {
            "cells": {
             "fill": {
              "color": "#EBF0F8"
             },
             "line": {
              "color": "white"
             }
            },
            "header": {
             "fill": {
              "color": "#C8D4E3"
             },
             "line": {
              "color": "white"
             }
            },
            "type": "table"
           }
          ]
         },
         "layout": {
          "annotationdefaults": {
           "arrowcolor": "#2a3f5f",
           "arrowhead": 0,
           "arrowwidth": 1
          },
          "coloraxis": {
           "colorbar": {
            "outlinewidth": 0,
            "ticks": ""
           }
          },
          "colorscale": {
           "diverging": [
            [
             0,
             "#8e0152"
            ],
            [
             0.1,
             "#c51b7d"
            ],
            [
             0.2,
             "#de77ae"
            ],
            [
             0.3,
             "#f1b6da"
            ],
            [
             0.4,
             "#fde0ef"
            ],
            [
             0.5,
             "#f7f7f7"
            ],
            [
             0.6,
             "#e6f5d0"
            ],
            [
             0.7,
             "#b8e186"
            ],
            [
             0.8,
             "#7fbc41"
            ],
            [
             0.9,
             "#4d9221"
            ],
            [
             1,
             "#276419"
            ]
           ],
           "sequential": [
            [
             0,
             "#0d0887"
            ],
            [
             0.1111111111111111,
             "#46039f"
            ],
            [
             0.2222222222222222,
             "#7201a8"
            ],
            [
             0.3333333333333333,
             "#9c179e"
            ],
            [
             0.4444444444444444,
             "#bd3786"
            ],
            [
             0.5555555555555556,
             "#d8576b"
            ],
            [
             0.6666666666666666,
             "#ed7953"
            ],
            [
             0.7777777777777778,
             "#fb9f3a"
            ],
            [
             0.8888888888888888,
             "#fdca26"
            ],
            [
             1,
             "#f0f921"
            ]
           ],
           "sequentialminus": [
            [
             0,
             "#0d0887"
            ],
            [
             0.1111111111111111,
             "#46039f"
            ],
            [
             0.2222222222222222,
             "#7201a8"
            ],
            [
             0.3333333333333333,
             "#9c179e"
            ],
            [
             0.4444444444444444,
             "#bd3786"
            ],
            [
             0.5555555555555556,
             "#d8576b"
            ],
            [
             0.6666666666666666,
             "#ed7953"
            ],
            [
             0.7777777777777778,
             "#fb9f3a"
            ],
            [
             0.8888888888888888,
             "#fdca26"
            ],
            [
             1,
             "#f0f921"
            ]
           ]
          },
          "colorway": [
           "#636efa",
           "#EF553B",
           "#00cc96",
           "#ab63fa",
           "#FFA15A",
           "#19d3f3",
           "#FF6692",
           "#B6E880",
           "#FF97FF",
           "#FECB52"
          ],
          "font": {
           "color": "#2a3f5f"
          },
          "geo": {
           "bgcolor": "white",
           "lakecolor": "white",
           "landcolor": "#E5ECF6",
           "showlakes": true,
           "showland": true,
           "subunitcolor": "white"
          },
          "hoverlabel": {
           "align": "left"
          },
          "hovermode": "closest",
          "mapbox": {
           "style": "light"
          },
          "paper_bgcolor": "white",
          "plot_bgcolor": "#E5ECF6",
          "polar": {
           "angularaxis": {
            "gridcolor": "white",
            "linecolor": "white",
            "ticks": ""
           },
           "bgcolor": "#E5ECF6",
           "radialaxis": {
            "gridcolor": "white",
            "linecolor": "white",
            "ticks": ""
           }
          },
          "scene": {
           "xaxis": {
            "backgroundcolor": "#E5ECF6",
            "gridcolor": "white",
            "gridwidth": 2,
            "linecolor": "white",
            "showbackground": true,
            "ticks": "",
            "zerolinecolor": "white"
           },
           "yaxis": {
            "backgroundcolor": "#E5ECF6",
            "gridcolor": "white",
            "gridwidth": 2,
            "linecolor": "white",
            "showbackground": true,
            "ticks": "",
            "zerolinecolor": "white"
           },
           "zaxis": {
            "backgroundcolor": "#E5ECF6",
            "gridcolor": "white",
            "gridwidth": 2,
            "linecolor": "white",
            "showbackground": true,
            "ticks": "",
            "zerolinecolor": "white"
           }
          },
          "shapedefaults": {
           "line": {
            "color": "#2a3f5f"
           }
          },
          "ternary": {
           "aaxis": {
            "gridcolor": "white",
            "linecolor": "white",
            "ticks": ""
           },
           "baxis": {
            "gridcolor": "white",
            "linecolor": "white",
            "ticks": ""
           },
           "bgcolor": "#E5ECF6",
           "caxis": {
            "gridcolor": "white",
            "linecolor": "white",
            "ticks": ""
           }
          },
          "title": {
           "x": 0.05
          },
          "xaxis": {
           "automargin": true,
           "gridcolor": "white",
           "linecolor": "white",
           "ticks": "",
           "title": {
            "standoff": 15
           },
           "zerolinecolor": "white",
           "zerolinewidth": 2
          },
          "yaxis": {
           "automargin": true,
           "gridcolor": "white",
           "linecolor": "white",
           "ticks": "",
           "title": {
            "standoff": 15
           },
           "zerolinecolor": "white",
           "zerolinewidth": 2
          }
         }
        },
        "title": {
         "text": "Change to labor supply from $1,000 UBI in small open economy"
        },
        "xaxis": {
         "anchor": "y",
         "domain": [
          0,
          1
         ],
         "title": {
          "text": "Age"
         }
        },
        "yaxis": {
         "anchor": "x",
         "domain": [
          0,
          1
         ],
         "ticksuffix": "%",
         "title": {
          "text": "Change to labor supply"
         }
        }
       }
      },
      "text/html": [
       "<div>\n",
       "        \n",
       "        \n",
       "            <div id=\"58d35239-930a-4845-ad6d-afd2c7af64e4\" class=\"plotly-graph-div\" style=\"height:525px; width:100%;\"></div>\n",
       "            <script type=\"text/javascript\">\n",
       "                require([\"plotly\"], function(Plotly) {\n",
       "                    window.PLOTLYENV=window.PLOTLYENV || {};\n",
       "                    \n",
       "                if (document.getElementById(\"58d35239-930a-4845-ad6d-afd2c7af64e4\")) {\n",
       "                    Plotly.newPlot(\n",
       "                        '58d35239-930a-4845-ad6d-afd2c7af64e4',\n",
       "                        [{\"legendgroup\": \"0\", \"line\": {\"color\": \"#440154\", \"dash\": \"solid\"}, \"mode\": \"lines\", \"name\": \"0\", \"orientation\": \"v\", \"showlegend\": true, \"type\": \"scatter\", \"x\": [21, 22, 23, 24, 25, 26, 27, 28, 29, 30, 31, 32, 33, 34, 35, 36, 37, 38, 39, 40, 41, 42, 43, 44, 45, 46, 47, 48, 49, 50, 51, 52, 53, 54, 55, 56, 57, 58, 59, 60, 61, 62, 63, 64, 65, 66, 67, 68, 69, 70, 71, 72, 73, 74, 75, 76, 77, 78, 79, 80, 81, 82, 83, 84, 85, 86, 87, 88, 89, 90, 91, 92, 93, 94, 95, 96, 97, 98, 99, 100], \"xaxis\": \"x\", \"y\": [-2.81, -3.13, -3.15, -3.34, -3.48, -3.67, -3.79, -3.96, -4.17, -4.34, -4.47, -4.56, -4.63, -4.64, -4.69, -4.68, -4.59, -4.52, -4.41, -4.29, -4.22, -4.14, -4.0, -3.85, -3.7, -3.54, -3.43, -3.28, -3.12, -2.98, -2.86, -2.75, -2.65, -2.56, -2.51, -2.41, -2.32, -2.26, -2.2, -2.17, -2.13, -2.11, -2.09, -1.92, -1.88, -1.87, -1.85, -1.82, -1.8, -1.77, -1.61, -1.64, -1.53, -1.5, -1.48, -1.4, -1.28, -1.16, -0.99, -0.98, -0.89, -0.88, -0.91, -1.0, -0.98, -0.97, -0.96, -0.95, -0.94, -0.93, -0.93, -0.92, -0.92, -0.91, -0.91, -0.91, -0.9, -0.88, -0.85, -0.79], \"yaxis\": \"y\"}, {\"legendgroup\": \"1\", \"line\": {\"color\": \"#482878\", \"dash\": \"solid\"}, \"mode\": \"lines\", \"name\": \"1\", \"orientation\": \"v\", \"showlegend\": true, \"type\": \"scatter\", \"x\": [21, 22, 23, 24, 25, 26, 27, 28, 29, 30, 31, 32, 33, 34, 35, 36, 37, 38, 39, 40, 41, 42, 43, 44, 45, 46, 47, 48, 49, 50, 51, 52, 53, 54, 55, 56, 57, 58, 59, 60, 61, 62, 63, 64, 65, 66, 67, 68, 69, 70, 71, 72, 73, 74, 75, 76, 77, 78, 79, 80, 81, 82, 83, 84, 85, 86, 87, 88, 89, 90, 91, 92, 93, 94, 95, 96, 97, 98, 99, 100], \"xaxis\": \"x\", \"y\": [-3.64, -3.72, -3.64, -3.76, -3.77, -3.86, -3.9, -3.98, -4.11, -4.19, -4.24, -4.26, -4.24, -4.16, -4.11, -4.03, -3.91, -3.76, -3.58, -3.41, -3.3, -3.17, -3.01, -2.86, -2.71, -2.58, -2.47, -2.35, -2.24, -2.16, -2.09, -2.02, -1.98, -1.95, -1.94, -1.93, -1.91, -1.92, -1.96, -1.99, -2.09, -2.19, -2.27, -2.2, -2.26, -2.32, -2.36, -2.38, -2.4, -2.4, -2.28, -2.33, -2.23, -2.19, -2.19, -2.12, -2.01, -1.91, -1.75, -1.75, -1.69, -1.7, -1.73, -1.8, -1.76, -1.72, -1.69, -1.66, -1.63, -1.61, -1.59, -1.57, -1.55, -1.54, -1.53, -1.51, -1.5, -1.47, -1.44, -1.39], \"yaxis\": \"y\"}, {\"legendgroup\": \"2\", \"line\": {\"color\": \"#3e4989\", \"dash\": \"solid\"}, \"mode\": \"lines\", \"name\": \"2\", \"orientation\": \"v\", \"showlegend\": true, \"type\": \"scatter\", \"x\": [21, 22, 23, 24, 25, 26, 27, 28, 29, 30, 31, 32, 33, 34, 35, 36, 37, 38, 39, 40, 41, 42, 43, 44, 45, 46, 47, 48, 49, 50, 51, 52, 53, 54, 55, 56, 57, 58, 59, 60, 61, 62, 63, 64, 65, 66, 67, 68, 69, 70, 71, 72, 73, 74, 75, 76, 77, 78, 79, 80, 81, 82, 83, 84, 85, 86, 87, 88, 89, 90, 91, 92, 93, 94, 95, 96, 97, 98, 99, 100], \"xaxis\": \"x\", \"y\": [-3.76, -3.77, -3.61, -3.64, -3.57, -3.58, -3.54, -3.57, -3.6, -3.59, -3.56, -3.51, -3.45, -3.34, -3.26, -3.17, -3.08, -2.92, -2.75, -2.6, -2.5, -2.39, -2.27, -2.16, -2.06, -2.0, -1.93, -1.87, -1.83, -1.82, -1.8, -1.78, -1.79, -1.82, -1.85, -1.92, -1.95, -2.02, -2.12, -2.21, -2.41, -2.63, -2.79, -2.81, -2.96, -3.11, -3.23, -3.32, -3.4, -3.45, -3.4, -3.5, -3.43, -3.41, -3.45, -3.44, -3.37, -3.31, -3.2, -3.25, -3.25, -3.29, -3.32, -3.32, -3.18, -3.05, -2.94, -2.84, -2.76, -2.69, -2.63, -2.57, -2.54, -2.5, -2.47, -2.44, -2.42, -2.4, -2.37, -2.33], \"yaxis\": \"y\"}, {\"legendgroup\": \"3\", \"line\": {\"color\": \"#31688e\", \"dash\": \"solid\"}, \"mode\": \"lines\", \"name\": \"3\", \"orientation\": \"v\", \"showlegend\": true, \"type\": \"scatter\", \"x\": [21, 22, 23, 24, 25, 26, 27, 28, 29, 30, 31, 32, 33, 34, 35, 36, 37, 38, 39, 40, 41, 42, 43, 44, 45, 46, 47, 48, 49, 50, 51, 52, 53, 54, 55, 56, 57, 58, 59, 60, 61, 62, 63, 64, 65, 66, 67, 68, 69, 70, 71, 72, 73, 74, 75, 76, 77, 78, 79, 80, 81, 82, 83, 84, 85, 86, 87, 88, 89, 90, 91, 92, 93, 94, 95, 96, 97, 98, 99, 100], \"xaxis\": \"x\", \"y\": [-3.61, -3.59, -3.36, -3.34, -3.24, -3.21, -3.12, -3.11, -3.09, -3.02, -2.92, -2.85, -2.76, -2.67, -2.58, -2.5, -2.46, -2.3, -2.15, -2.02, -1.96, -1.87, -1.78, -1.71, -1.65, -1.63, -1.58, -1.57, -1.59, -1.61, -1.63, -1.65, -1.69, -1.75, -1.81, -1.92, -1.98, -2.08, -2.22, -2.33, -2.6, -2.88, -3.08, -3.13, -3.32, -3.5, -3.64, -3.75, -3.85, -3.92, -3.89, -3.99, -3.92, -3.9, -3.95, -3.95, -3.9, -3.85, -3.75, -3.82, -3.83, -3.89, -3.9, -3.85, -3.63, -3.44, -3.27, -3.11, -2.98, -2.86, -2.75, -2.66, -2.59, -2.52, -2.47, -2.43, -2.4, -2.38, -2.36, -2.33], \"yaxis\": \"y\"}, {\"legendgroup\": \"4\", \"line\": {\"color\": \"#26828e\", \"dash\": \"solid\"}, \"mode\": \"lines\", \"name\": \"4\", \"orientation\": \"v\", \"showlegend\": true, \"type\": \"scatter\", \"x\": [21, 22, 23, 24, 25, 26, 27, 28, 29, 30, 31, 32, 33, 34, 35, 36, 37, 38, 39, 40, 41, 42, 43, 44, 45, 46, 47, 48, 49, 50, 51, 52, 53, 54, 55, 56, 57, 58, 59, 60, 61, 62, 63, 64, 65, 66, 67, 68, 69, 70, 71, 72, 73, 74, 75, 76, 77, 78, 79, 80, 81, 82, 83, 84, 85, 86, 87, 88, 89, 90, 91, 92, 93, 94, 95, 96, 97, 98, 99, 100], \"xaxis\": \"x\", \"y\": [-3.39, -3.37, -3.1, -3.03, -2.92, -2.89, -2.76, -2.74, -2.68, -2.57, -2.45, -2.35, -2.27, -2.19, -2.11, -2.05, -2.06, -1.91, -1.78, -1.68, -1.64, -1.56, -1.5, -1.46, -1.43, -1.45, -1.41, -1.43, -1.48, -1.54, -1.59, -1.62, -1.68, -1.77, -1.85, -2.0, -2.08, -2.2, -2.37, -2.5, -2.83, -3.17, -3.42, -3.49, -3.71, -3.92, -4.09, -4.22, -4.34, -4.42, -4.4, -4.52, -4.44, -4.4, -4.46, -4.47, -4.44, -4.41, -4.33, -4.42, -4.46, -4.53, -4.54, -4.47, -4.23, -4.02, -3.84, -3.68, -3.54, -3.42, -3.31, -3.21, -3.14, -3.07, -3.01, -2.96, -2.91, -2.87, -2.83, -2.8], \"yaxis\": \"y\"}, {\"legendgroup\": \"5\", \"line\": {\"color\": \"#1f9e89\", \"dash\": \"solid\"}, \"mode\": \"lines\", \"name\": \"5\", \"orientation\": \"v\", \"showlegend\": true, \"type\": \"scatter\", \"x\": [21, 22, 23, 24, 25, 26, 27, 28, 29, 30, 31, 32, 33, 34, 35, 36, 37, 38, 39, 40, 41, 42, 43, 44, 45, 46, 47, 48, 49, 50, 51, 52, 53, 54, 55, 56, 57, 58, 59, 60, 61, 62, 63, 64, 65, 66, 67, 68, 69, 70, 71, 72, 73, 74, 75, 76, 77, 78, 79, 80, 81, 82, 83, 84, 85, 86, 87, 88, 89, 90, 91, 92, 93, 94, 95, 96, 97, 98, 99, 100], \"xaxis\": \"x\", \"y\": [-2.42, -2.6, -2.36, -2.3, -2.25, -2.27, -2.13, -2.11, -2.03, -1.9, -1.76, -1.66, -1.58, -1.52, -1.44, -1.39, -1.46, -1.3, -1.18, -1.09, -1.08, -1.01, -0.96, -0.96, -0.97, -1.05, -1.02, -1.11, -1.24, -1.39, -1.52, -1.62, -1.75, -1.9, -2.05, -2.33, -2.39, -2.55, -2.75, -2.87, -3.32, -3.77, -4.02, -4.03, -4.21, -4.38, -4.51, -4.59, -4.66, -4.69, -4.65, -4.73, -4.62, -4.54, -4.55, -4.5, -4.46, -4.4, -4.28, -4.33, -4.35, -4.4, -4.43, -4.42, -4.29, -4.17, -4.06, -3.95, -3.86, -3.77, -3.69, -3.61, -3.55, -3.49, -3.43, -3.38, -3.33, -3.29, -3.25, -3.21], \"yaxis\": \"y\"}, {\"legendgroup\": \"6\", \"line\": {\"color\": \"#35b779\", \"dash\": \"solid\"}, \"mode\": \"lines\", \"name\": \"6\", \"orientation\": \"v\", \"showlegend\": true, \"type\": \"scatter\", \"x\": [21, 22, 23, 24, 25, 26, 27, 28, 29, 30, 31, 32, 33, 34, 35, 36, 37, 38, 39, 40, 41, 42, 43, 44, 45, 46, 47, 48, 49, 50, 51, 52, 53, 54, 55, 56, 57, 58, 59, 60, 61, 62, 63, 64, 65, 66, 67, 68, 69, 70, 71, 72, 73, 74, 75, 76, 77, 78, 79, 80, 81, 82, 83, 84, 85, 86, 87, 88, 89, 90, 91, 92, 93, 94, 95, 96, 97, 98, 99, 100], \"xaxis\": \"x\", \"y\": [-0.56, -1.27, -1.08, -1.11, -1.0, -1.09, -0.76, -0.67, -0.53, -0.39, -0.22, -0.01, 0.02, 0.11, 0.15, 0.18, -0.11, -0.01, 0.01, -0.03, -0.15, -0.15, -0.21, -0.38, -0.54, -0.77, -0.77, -1.0, -1.29, -1.58, -1.8, -1.94, -2.09, -2.21, -2.38, -2.71, -2.68, -2.78, -2.89, -2.87, -3.37, -3.86, -4.05, -3.93, -4.06, -4.17, -4.27, -4.33, -4.39, -4.42, -4.38, -4.48, -4.35, -4.27, -4.27, -4.24, -4.26, -4.23, -4.13, -4.22, -4.3, -4.4, -4.46, -4.5, -4.43, -4.37, -4.31, -4.26, -4.21, -4.17, -4.13, -4.09, -4.05, -4.02, -3.99, -3.96, -3.94, -3.92, -3.9, -3.88], \"yaxis\": \"y\"}],\n",
       "                        {\"font\": {\"family\": \"Roboto\"}, \"hovermode\": \"x\", \"legend\": {\"title\": {\"text\": \"Lifetime income group\"}, \"tracegroupgap\": 0}, \"margin\": {\"t\": 60}, \"plot_bgcolor\": \"white\", \"template\": {\"data\": {\"bar\": [{\"error_x\": {\"color\": \"#2a3f5f\"}, \"error_y\": {\"color\": \"#2a3f5f\"}, \"marker\": {\"line\": {\"color\": \"#E5ECF6\", \"width\": 0.5}}, \"type\": \"bar\"}], \"barpolar\": [{\"marker\": {\"line\": {\"color\": \"#E5ECF6\", \"width\": 0.5}}, \"type\": \"barpolar\"}], \"carpet\": [{\"aaxis\": {\"endlinecolor\": \"#2a3f5f\", \"gridcolor\": \"white\", \"linecolor\": \"white\", \"minorgridcolor\": \"white\", \"startlinecolor\": \"#2a3f5f\"}, \"baxis\": {\"endlinecolor\": \"#2a3f5f\", \"gridcolor\": \"white\", \"linecolor\": \"white\", \"minorgridcolor\": \"white\", \"startlinecolor\": \"#2a3f5f\"}, \"type\": \"carpet\"}], \"choropleth\": [{\"colorbar\": {\"outlinewidth\": 0, \"ticks\": \"\"}, \"type\": \"choropleth\"}], \"contour\": [{\"colorbar\": {\"outlinewidth\": 0, \"ticks\": \"\"}, \"colorscale\": [[0.0, \"#0d0887\"], [0.1111111111111111, \"#46039f\"], [0.2222222222222222, \"#7201a8\"], [0.3333333333333333, \"#9c179e\"], [0.4444444444444444, \"#bd3786\"], [0.5555555555555556, \"#d8576b\"], [0.6666666666666666, \"#ed7953\"], [0.7777777777777778, \"#fb9f3a\"], [0.8888888888888888, \"#fdca26\"], [1.0, \"#f0f921\"]], \"type\": \"contour\"}], \"contourcarpet\": [{\"colorbar\": {\"outlinewidth\": 0, \"ticks\": \"\"}, \"type\": \"contourcarpet\"}], \"heatmap\": [{\"colorbar\": {\"outlinewidth\": 0, \"ticks\": \"\"}, \"colorscale\": [[0.0, \"#0d0887\"], [0.1111111111111111, \"#46039f\"], [0.2222222222222222, \"#7201a8\"], [0.3333333333333333, \"#9c179e\"], [0.4444444444444444, \"#bd3786\"], [0.5555555555555556, \"#d8576b\"], [0.6666666666666666, \"#ed7953\"], [0.7777777777777778, \"#fb9f3a\"], [0.8888888888888888, \"#fdca26\"], [1.0, \"#f0f921\"]], \"type\": \"heatmap\"}], \"heatmapgl\": [{\"colorbar\": {\"outlinewidth\": 0, \"ticks\": \"\"}, \"colorscale\": [[0.0, \"#0d0887\"], [0.1111111111111111, \"#46039f\"], [0.2222222222222222, \"#7201a8\"], [0.3333333333333333, \"#9c179e\"], [0.4444444444444444, \"#bd3786\"], [0.5555555555555556, \"#d8576b\"], [0.6666666666666666, \"#ed7953\"], [0.7777777777777778, \"#fb9f3a\"], [0.8888888888888888, \"#fdca26\"], [1.0, \"#f0f921\"]], \"type\": \"heatmapgl\"}], \"histogram\": [{\"marker\": {\"colorbar\": {\"outlinewidth\": 0, \"ticks\": \"\"}}, \"type\": \"histogram\"}], \"histogram2d\": [{\"colorbar\": {\"outlinewidth\": 0, \"ticks\": \"\"}, \"colorscale\": [[0.0, \"#0d0887\"], [0.1111111111111111, \"#46039f\"], [0.2222222222222222, \"#7201a8\"], [0.3333333333333333, \"#9c179e\"], [0.4444444444444444, \"#bd3786\"], [0.5555555555555556, \"#d8576b\"], [0.6666666666666666, \"#ed7953\"], [0.7777777777777778, \"#fb9f3a\"], [0.8888888888888888, \"#fdca26\"], [1.0, \"#f0f921\"]], \"type\": \"histogram2d\"}], \"histogram2dcontour\": [{\"colorbar\": {\"outlinewidth\": 0, \"ticks\": \"\"}, \"colorscale\": [[0.0, \"#0d0887\"], [0.1111111111111111, \"#46039f\"], [0.2222222222222222, \"#7201a8\"], [0.3333333333333333, \"#9c179e\"], [0.4444444444444444, \"#bd3786\"], [0.5555555555555556, \"#d8576b\"], [0.6666666666666666, \"#ed7953\"], [0.7777777777777778, \"#fb9f3a\"], [0.8888888888888888, \"#fdca26\"], [1.0, \"#f0f921\"]], \"type\": \"histogram2dcontour\"}], \"mesh3d\": [{\"colorbar\": {\"outlinewidth\": 0, \"ticks\": \"\"}, \"type\": \"mesh3d\"}], \"parcoords\": [{\"line\": {\"colorbar\": {\"outlinewidth\": 0, \"ticks\": \"\"}}, \"type\": \"parcoords\"}], \"pie\": [{\"automargin\": true, \"type\": \"pie\"}], \"scatter\": [{\"marker\": {\"colorbar\": {\"outlinewidth\": 0, \"ticks\": \"\"}}, \"type\": \"scatter\"}], \"scatter3d\": [{\"line\": {\"colorbar\": {\"outlinewidth\": 0, \"ticks\": \"\"}}, \"marker\": {\"colorbar\": {\"outlinewidth\": 0, \"ticks\": \"\"}}, \"type\": \"scatter3d\"}], \"scattercarpet\": [{\"marker\": {\"colorbar\": {\"outlinewidth\": 0, \"ticks\": \"\"}}, \"type\": \"scattercarpet\"}], \"scattergeo\": [{\"marker\": {\"colorbar\": {\"outlinewidth\": 0, \"ticks\": \"\"}}, \"type\": \"scattergeo\"}], \"scattergl\": [{\"marker\": {\"colorbar\": {\"outlinewidth\": 0, \"ticks\": \"\"}}, \"type\": \"scattergl\"}], \"scattermapbox\": [{\"marker\": {\"colorbar\": {\"outlinewidth\": 0, \"ticks\": \"\"}}, \"type\": \"scattermapbox\"}], \"scatterpolar\": [{\"marker\": {\"colorbar\": {\"outlinewidth\": 0, \"ticks\": \"\"}}, \"type\": \"scatterpolar\"}], \"scatterpolargl\": [{\"marker\": {\"colorbar\": {\"outlinewidth\": 0, \"ticks\": \"\"}}, \"type\": \"scatterpolargl\"}], \"scatterternary\": [{\"marker\": {\"colorbar\": {\"outlinewidth\": 0, \"ticks\": \"\"}}, \"type\": \"scatterternary\"}], \"surface\": [{\"colorbar\": {\"outlinewidth\": 0, \"ticks\": \"\"}, \"colorscale\": [[0.0, \"#0d0887\"], [0.1111111111111111, \"#46039f\"], [0.2222222222222222, \"#7201a8\"], [0.3333333333333333, \"#9c179e\"], [0.4444444444444444, \"#bd3786\"], [0.5555555555555556, \"#d8576b\"], [0.6666666666666666, \"#ed7953\"], [0.7777777777777778, \"#fb9f3a\"], [0.8888888888888888, \"#fdca26\"], [1.0, \"#f0f921\"]], \"type\": \"surface\"}], \"table\": [{\"cells\": {\"fill\": {\"color\": \"#EBF0F8\"}, \"line\": {\"color\": \"white\"}}, \"header\": {\"fill\": {\"color\": \"#C8D4E3\"}, \"line\": {\"color\": \"white\"}}, \"type\": \"table\"}]}, \"layout\": {\"annotationdefaults\": {\"arrowcolor\": \"#2a3f5f\", \"arrowhead\": 0, \"arrowwidth\": 1}, \"coloraxis\": {\"colorbar\": {\"outlinewidth\": 0, \"ticks\": \"\"}}, \"colorscale\": {\"diverging\": [[0, \"#8e0152\"], [0.1, \"#c51b7d\"], [0.2, \"#de77ae\"], [0.3, \"#f1b6da\"], [0.4, \"#fde0ef\"], [0.5, \"#f7f7f7\"], [0.6, \"#e6f5d0\"], [0.7, \"#b8e186\"], [0.8, \"#7fbc41\"], [0.9, \"#4d9221\"], [1, \"#276419\"]], \"sequential\": [[0.0, \"#0d0887\"], [0.1111111111111111, \"#46039f\"], [0.2222222222222222, \"#7201a8\"], [0.3333333333333333, \"#9c179e\"], [0.4444444444444444, \"#bd3786\"], [0.5555555555555556, \"#d8576b\"], [0.6666666666666666, \"#ed7953\"], [0.7777777777777778, \"#fb9f3a\"], [0.8888888888888888, \"#fdca26\"], [1.0, \"#f0f921\"]], \"sequentialminus\": [[0.0, \"#0d0887\"], [0.1111111111111111, \"#46039f\"], [0.2222222222222222, \"#7201a8\"], [0.3333333333333333, \"#9c179e\"], [0.4444444444444444, \"#bd3786\"], [0.5555555555555556, \"#d8576b\"], [0.6666666666666666, \"#ed7953\"], [0.7777777777777778, \"#fb9f3a\"], [0.8888888888888888, \"#fdca26\"], [1.0, \"#f0f921\"]]}, \"colorway\": [\"#636efa\", \"#EF553B\", \"#00cc96\", \"#ab63fa\", \"#FFA15A\", \"#19d3f3\", \"#FF6692\", \"#B6E880\", \"#FF97FF\", \"#FECB52\"], \"font\": {\"color\": \"#2a3f5f\"}, \"geo\": {\"bgcolor\": \"white\", \"lakecolor\": \"white\", \"landcolor\": \"#E5ECF6\", \"showlakes\": true, \"showland\": true, \"subunitcolor\": \"white\"}, \"hoverlabel\": {\"align\": \"left\"}, \"hovermode\": \"closest\", \"mapbox\": {\"style\": \"light\"}, \"paper_bgcolor\": \"white\", \"plot_bgcolor\": \"#E5ECF6\", \"polar\": {\"angularaxis\": {\"gridcolor\": \"white\", \"linecolor\": \"white\", \"ticks\": \"\"}, \"bgcolor\": \"#E5ECF6\", \"radialaxis\": {\"gridcolor\": \"white\", \"linecolor\": \"white\", \"ticks\": \"\"}}, \"scene\": {\"xaxis\": {\"backgroundcolor\": \"#E5ECF6\", \"gridcolor\": \"white\", \"gridwidth\": 2, \"linecolor\": \"white\", \"showbackground\": true, \"ticks\": \"\", \"zerolinecolor\": \"white\"}, \"yaxis\": {\"backgroundcolor\": \"#E5ECF6\", \"gridcolor\": \"white\", \"gridwidth\": 2, \"linecolor\": \"white\", \"showbackground\": true, \"ticks\": \"\", \"zerolinecolor\": \"white\"}, \"zaxis\": {\"backgroundcolor\": \"#E5ECF6\", \"gridcolor\": \"white\", \"gridwidth\": 2, \"linecolor\": \"white\", \"showbackground\": true, \"ticks\": \"\", \"zerolinecolor\": \"white\"}}, \"shapedefaults\": {\"line\": {\"color\": \"#2a3f5f\"}}, \"ternary\": {\"aaxis\": {\"gridcolor\": \"white\", \"linecolor\": \"white\", \"ticks\": \"\"}, \"baxis\": {\"gridcolor\": \"white\", \"linecolor\": \"white\", \"ticks\": \"\"}, \"bgcolor\": \"#E5ECF6\", \"caxis\": {\"gridcolor\": \"white\", \"linecolor\": \"white\", \"ticks\": \"\"}}, \"title\": {\"x\": 0.05}, \"xaxis\": {\"automargin\": true, \"gridcolor\": \"white\", \"linecolor\": \"white\", \"ticks\": \"\", \"title\": {\"standoff\": 15}, \"zerolinecolor\": \"white\", \"zerolinewidth\": 2}, \"yaxis\": {\"automargin\": true, \"gridcolor\": \"white\", \"linecolor\": \"white\", \"ticks\": \"\", \"title\": {\"standoff\": 15}, \"zerolinecolor\": \"white\", \"zerolinewidth\": 2}}}, \"title\": {\"text\": \"Change to labor supply from $1,000 UBI in small open economy\"}, \"xaxis\": {\"anchor\": \"y\", \"domain\": [0.0, 1.0], \"title\": {\"text\": \"Age\"}}, \"yaxis\": {\"anchor\": \"x\", \"domain\": [0.0, 1.0], \"ticksuffix\": \"%\", \"title\": {\"text\": \"Change to labor supply\"}}},\n",
       "                        {\"responsive\": true}\n",
       "                    ).then(function(){\n",
       "                            \n",
       "var gd = document.getElementById('58d35239-930a-4845-ad6d-afd2c7af64e4');\n",
       "var x = new MutationObserver(function (mutations, observer) {{\n",
       "        var display = window.getComputedStyle(gd).display;\n",
       "        if (!display || display === 'none') {{\n",
       "            console.log([gd, 'removed!']);\n",
       "            Plotly.purge(gd);\n",
       "            observer.disconnect();\n",
       "        }}\n",
       "}});\n",
       "\n",
       "// Listen for the removal of the full notebook cells\n",
       "var notebookContainer = gd.closest('#notebook-container');\n",
       "if (notebookContainer) {{\n",
       "    x.observe(notebookContainer, {childList: true});\n",
       "}}\n",
       "\n",
       "// Listen for the clearing of the current output cell\n",
       "var outputEl = gd.closest('.output');\n",
       "if (outputEl) {{\n",
       "    x.observe(outputEl, {childList: true});\n",
       "}}\n",
       "\n",
       "                        })\n",
       "                };\n",
       "                });\n",
       "            </script>\n",
       "        </div>"
      ]
     },
     "metadata": {},
     "output_type": "display_data"
    }
   ],
   "source": [
    "fig = px.line(nss_diff, x='age', y='n_diff_pct', color='skill',\n",
    "              color_discrete_sequence=px.colors.sequential.Viridis)\n",
    "fig.update_layout(\n",
    "        title='Change to labor supply from $1,000 UBI in small open economy',\n",
    "        xaxis_title='Age',\n",
    "        yaxis_title='Change to labor supply',\n",
    "        yaxis_ticksuffix='%',\n",
    "        font=dict(family='Roboto'),\n",
    "        hovermode='x',\n",
    "        plot_bgcolor='white',\n",
    "        legend_title_text='Lifetime income group'\n",
    "    )\n",
    "fig.update_traces(hovertemplate=None)"
   ]
  },
  {
   "cell_type": "markdown",
   "metadata": {},
   "source": [
    "**TODO:** Compute overall response by lifetime income group by weighting by $\\omega$, and overall response by age by weighting by $\\lambda$."
   ]
  },
  {
   "cell_type": "code",
   "execution_count": 123,
   "metadata": {},
   "outputs": [],
   "source": [
    "omegas_ss = reform_params.omega[-1, :].sum()  # Final time period."
   ]
  },
  {
   "cell_type": "markdown",
   "metadata": {},
   "source": [
    "## Other exploratory\n",
    "\n",
    "Change between base and reform to `yss_before_tax` matches change to `nss` in the first period,\n",
    "diverges after that."
   ]
  },
  {
   "cell_type": "code",
   "execution_count": 79,
   "metadata": {},
   "outputs": [],
   "source": [
    "assert np.allclose(reform['yss_before_tax_mat'][0, :] /\n",
    "                   base['yss_before_tax_mat'][0, :],\n",
    "                   reform['nssmat'][0, :] /\n",
    "                   base['nssmat'][0, :])"
   ]
  },
  {
   "cell_type": "code",
   "execution_count": 80,
   "metadata": {},
   "outputs": [],
   "source": [
    "assert not np.allclose(reform['yss_before_tax_mat'][1:, :] /\n",
    "                       base['yss_before_tax_mat'][1:, :],\n",
    "                       reform['nssmat'][1:, :] /\n",
    "                       base['nssmat'][1:, :])"
   ]
  },
  {
   "cell_type": "markdown",
   "metadata": {},
   "source": [
    "## Compute elasticities\n",
    "\n",
    "### Compute change in income from the UBI\n",
    "\n",
    "Considering each group's income from baseline labor supply, tax policy, and other conditions other than ETR (which is affected only by the UBI)."
   ]
  },
  {
   "cell_type": "markdown",
   "metadata": {},
   "source": [
    "```\n",
    "def net_taxes(r, w, b, n, bq, factor, tr, theta, t, j, shift, method,\n",
    "              e, etr_params, p):\n",
    "```"
   ]
  },
  {
   "cell_type": "code",
   "execution_count": 24,
   "metadata": {},
   "outputs": [],
   "source": [
    "assert np.allclose(base['rss'], reform['rss'])\n",
    "assert np.allclose(base['wss'], reform['wss'])\n",
    "assert np.allclose(base['factor_ss'], reform['factor_ss'])"
   ]
  },
  {
   "cell_type": "code",
   "execution_count": 29,
   "metadata": {},
   "outputs": [],
   "source": [
    "# r, w, and factor are the same between base and reform.\n",
    "# Label others as _base or _reform depending on what's\n",
    "# needed for the UBI calculation.\n",
    "r = base['rss']\n",
    "w = base['wss']\n",
    "# Label other variables as base.\n",
    "# _s indicates for age s, vs. _splus1.\n",
    "b_s_base = base['bssmat_s']  # Savings.\n",
    "n_base = base['nssmat']  # Labor supply.\n",
    "bq_base = base['bqssmat']  # Bequests received.\n",
    "factor = base['factor_ss']  # Scaling factor from units to dollars.\n",
    "tr_base = base['TR_ss']  # Government transfers to the household.\n",
    "theta_base = base['theta']  # Social security replacement rate value."
   ]
  },
  {
   "cell_type": "markdown",
   "metadata": {},
   "source": [
    "Specifications can come from baseline."
   ]
  },
  {
   "cell_type": "code",
   "execution_count": 47,
   "metadata": {},
   "outputs": [],
   "source": [
    "p = ogusa.Specifications(baseline=True, time_path=False)"
   ]
  },
  {
   "cell_type": "markdown",
   "metadata": {},
   "source": [
    "This is the calculation that breaks the `net_taxes` function call below. All dimensions seem to align, so what's the problem?"
   ]
  },
  {
   "cell_type": "code",
   "execution_count": 124,
   "metadata": {},
   "outputs": [
    {
     "data": {
      "text/plain": [
       "array([[0.18501207, 0.11210508, 0.11318395, 0.13045544, 0.16156734,\n",
       "        0.26797914, 0.6714108 ],\n",
       "       [0.17929378, 0.11748347, 0.12401859, 0.1449218 , 0.1792005 ,\n",
       "        0.28404022, 0.72131939],\n",
       "       [0.1938584 , 0.1370046 , 0.15063277, 0.17829   , 0.22018204,\n",
       "        0.33542504, 0.85955514],\n",
       "       [0.18259575, 0.13836818, 0.15777147, 0.18895491, 0.23316828,\n",
       "        0.34367958, 0.89180468],\n",
       "       [0.18575358, 0.15029473, 0.17711234, 0.21442302, 0.26440403,\n",
       "        0.3790937 , 0.99399675],\n",
       "       [0.18709881, 0.16096518, 0.19538014, 0.23884534, 0.29426434,\n",
       "        0.41227132, 1.08961329],\n",
       "       [0.18735782, 0.17074505, 0.21281771, 0.26242981, 0.32298511,\n",
       "        0.44395012, 1.17868367],\n",
       "       [0.1883307 , 0.18113419, 0.23118491, 0.28732406, 0.3532726 ,\n",
       "        0.4783956 , 1.27494329],\n",
       "       [0.18922695, 0.19140826, 0.24953116, 0.31235649, 0.38372083,\n",
       "        0.51393925, 1.3754733 ],\n",
       "       [0.186827  , 0.19803696, 0.263046  , 0.33141211, 0.4068152 ,\n",
       "        0.54080273, 1.4538703 ],\n",
       "       [0.18885772, 0.2091204 , 0.28235206, 0.35776669, 0.43879557,\n",
       "        0.5806994 , 1.5654303 ],\n",
       "       [0.18969675, 0.21869034, 0.29948477, 0.38137015, 0.4673279 ,\n",
       "        0.61733302, 1.66532325],\n",
       "       [0.19170535, 0.22937136, 0.31795609, 0.40668864, 0.49797099,\n",
       "        0.65840492, 1.77838072],\n",
       "       [0.19398622, 0.24017179, 0.33636629, 0.43187482, 0.52838468,\n",
       "        0.7007378 , 1.89246563],\n",
       "       [0.19692256, 0.25161976, 0.35548436, 0.45797297, 0.55993265,\n",
       "        0.74646378, 2.01586738],\n",
       "       [0.20056379, 0.26381406, 0.37537142, 0.48495987, 0.59247806,\n",
       "        0.79525496, 2.1430058 ],\n",
       "       [0.20362623, 0.27510284, 0.39381183, 0.51016314, 0.62299513,\n",
       "        0.84369929, 2.27092806],\n",
       "       [0.20755269, 0.28728446, 0.41306404, 0.53615629, 0.65428737,\n",
       "        0.89481057, 2.40016495],\n",
       "       [0.21763421, 0.30810229, 0.44453055, 0.57800572, 0.70498043,\n",
       "        0.97504727, 2.60562462],\n",
       "       [0.22255578, 0.32151879, 0.46491813, 0.60529093, 0.73782493,\n",
       "        1.03315249, 2.74799279],\n",
       "       [0.21848501, 0.32128696, 0.46502788, 0.60591506, 0.73810609,\n",
       "        1.04731762, 2.77062834],\n",
       "       [0.22360577, 0.33430722, 0.48403636, 0.63109587, 0.7684152 ,\n",
       "        1.10600373, 2.90925909],\n",
       "       [0.22989995, 0.34884687, 0.5048589 , 0.65849994, 0.80146968,\n",
       "        1.1709575 , 3.06126342],\n",
       "       [0.23644809, 0.36349446, 0.52543738, 0.6854444 , 0.83403122,\n",
       "        1.23767107, 3.21543658],\n",
       "       [0.24345432, 0.37856452, 0.5462096 , 0.71245218, 0.86669876,\n",
       "        1.30679439, 3.3720115 ],\n",
       "       [0.2488177 , 0.39081741, 0.56266761, 0.73381127, 0.89270362,\n",
       "        1.36844516, 3.50851787],\n",
       "       [0.25489131, 0.40370961, 0.57949971, 0.75527925, 0.91872409,\n",
       "        1.43129073, 3.64140377],\n",
       "       [0.26067806, 0.4158056 , 0.59492362, 0.77481541, 0.9425617 ,\n",
       "        1.49274371, 3.76836574],\n",
       "       [0.26683093, 0.42809718, 0.61032251, 0.79413674, 0.9662337 ,\n",
       "        1.55530512, 3.89421302],\n",
       "       [0.27274179, 0.43965923, 0.62452806, 0.81184699, 0.9881688 ,\n",
       "        1.61667154, 4.01434194],\n",
       "       [0.27859864, 0.45072585, 0.63783338, 0.82822899, 1.00862272,\n",
       "        1.6763731 , 4.12594539],\n",
       "       [0.28429274, 0.46121333, 0.65031345, 0.84352855, 1.02803834,\n",
       "        1.73528167, 4.23217883],\n",
       "       [0.28988808, 0.47112322, 0.66192143, 0.85757694, 1.04611319,\n",
       "        1.79186386, 4.32771349],\n",
       "       [0.29549626, 0.48067388, 0.67306417, 0.87093781, 1.06357057,\n",
       "        1.84683684, 4.41402444],\n",
       "       [0.28789154, 0.46799608, 0.65306707, 0.84378056, 1.03144418,\n",
       "        1.81211203, 4.28213572],\n",
       "       [0.29230651, 0.4749589 , 0.66111117, 0.85318845, 1.04457167,\n",
       "        1.8558648 , 4.33466024],\n",
       "       [0.29565191, 0.47998114, 0.66675553, 0.85939987, 1.05386809,\n",
       "        1.88891016, 4.35382623],\n",
       "       [0.29869319, 0.48415732, 0.67166487, 0.8647947 , 1.06256606,\n",
       "        1.91857684, 4.36443886],\n",
       "       [0.30189985, 0.48840914, 0.67724848, 0.87119069, 1.07286902,\n",
       "        1.94762519, 4.36990577],\n",
       "       [0.30295219, 0.48893998, 0.67825259, 0.87178189, 1.07631146,\n",
       "        1.95956308, 4.3332939 ],\n",
       "       [0.3039962 , 0.48953234, 0.68018597, 0.87381077, 1.08197958,\n",
       "        1.97091848, 4.29337133],\n",
       "       [0.30104661, 0.48345405, 0.67358096, 0.8651041 , 1.07476254,\n",
       "        1.95410938, 4.1943509 ],\n",
       "       [0.29649239, 0.474772  , 0.66413608, 0.85297082, 1.06357518,\n",
       "        1.92427949, 4.0677632 ],\n",
       "       [0.29167434, 0.46581447, 0.65514573, 0.84159811, 1.05345837,\n",
       "        1.88911446, 3.92827549],\n",
       "       [0.28349902, 0.45164151, 0.63966339, 0.82221951, 1.03361481,\n",
       "        1.83166328, 3.74795103],\n",
       "       [0.27214252, 0.43124859, 0.61403142, 0.78872948, 0.99469602,\n",
       "        1.73062315, 3.47331949],\n",
       "       [0.27038001, 0.42658406, 0.61183903, 0.78577168, 0.99491142,\n",
       "        1.6928371 , 3.32904333],\n",
       "       [0.26745144, 0.42012155, 0.60771009, 0.7804095 , 0.99216816,\n",
       "        1.64316728, 3.1633099 ],\n",
       "       [0.26250569, 0.41063673, 0.59978648, 0.77029415, 0.98344489,\n",
       "        1.57829879, 2.97395419],\n",
       "       [0.26262196, 0.40959093, 0.60560578, 0.77831803, 0.99865471,\n",
       "        1.54527638, 2.84671151],\n",
       "       [0.24781837, 0.38457337, 0.57466702, 0.73869405, 0.95180212,\n",
       "        1.41742331, 2.56312122],\n",
       "       [0.24314825, 0.37621394, 0.57018284, 0.73373012, 0.95043245,\n",
       "        1.3538916 , 2.39745341],\n",
       "       [0.23922903, 0.36929633, 0.56868119, 0.73287362, 0.95475923,\n",
       "        1.29448324, 2.24402443],\n",
       "       [0.24656069, 0.38087034, 0.59968342, 0.77533449, 1.0181783 ,\n",
       "        1.30204273, 2.20258231],\n",
       "       [0.24123752, 0.37221656, 0.59766769, 0.77457588, 1.02403846,\n",
       "        1.23401779, 2.04537574],\n",
       "       [0.23502591, 0.36220179, 0.5934939 , 0.77123586, 1.02701916,\n",
       "        1.16171915, 1.88983381],\n",
       "       [0.22992964, 0.35428745, 0.59384494, 0.77429532, 1.03946553,\n",
       "        1.09777179, 1.75321947],\n",
       "       [0.22425223, 0.3457154 , 0.59380806, 0.7772073 , 1.05225639,\n",
       "        1.03328721, 1.62166204],\n",
       "       [0.21804955, 0.33632572, 0.59224616, 0.77841477, 1.06366406,\n",
       "        0.96762779, 1.49503093],\n",
       "       [0.21177626, 0.32699626, 0.59153612, 0.78131271, 1.0785903 ,\n",
       "        0.90490378, 1.37803513],\n",
       "       [0.21012753, 0.32540358, 0.6076491 , 0.80800908, 1.09665065,\n",
       "        0.91765406, 1.36088497],\n",
       "       [0.20180908, 0.3118362 , 0.59330667, 0.79287359, 1.05450699,\n",
       "        0.88822356, 1.29067503],\n",
       "       [0.19681688, 0.30357706, 0.58840253, 0.79116691, 1.03066006,\n",
       "        0.8720952 , 1.24071252],\n",
       "       [0.19230767, 0.29583363, 0.58189636, 0.78758201, 1.00386552,\n",
       "        0.85552393, 1.19348777],\n",
       "       [0.18827081, 0.28869899, 0.57424233, 0.78287457, 0.97562346,\n",
       "        0.83952081, 1.15029851],\n",
       "       [0.18533148, 0.28338828, 0.56913124, 0.78260412, 0.95319999,\n",
       "        0.82885877, 1.11647469],\n",
       "       [0.18185395, 0.27694137, 0.55824921, 0.77444284, 0.92159676,\n",
       "        0.81267106, 1.07888475],\n",
       "       [0.1796268 , 0.27261523, 0.55108268, 0.77249773, 0.89799183,\n",
       "        0.80277136, 1.04996068],\n",
       "       [0.17583865, 0.26532694, 0.53256466, 0.75361309, 0.85653979,\n",
       "        0.78033508, 1.00994067],\n",
       "       [0.17424571, 0.26195005, 0.52355621, 0.74992843, 0.83344273,\n",
       "        0.77159331, 0.98557664],\n",
       "       [0.17194077, 0.25718709, 0.50809095, 0.73622492, 0.80158126,\n",
       "        0.75631288, 0.95610188],\n",
       "       [0.17113783, 0.25513514, 0.49892458, 0.73297525, 0.78258862,\n",
       "        0.75112558, 0.93775757],\n",
       "       [0.16753449, 0.24782857, 0.47176845, 0.69832932, 0.73586828,\n",
       "        0.72292782, 0.89852833],\n",
       "       [0.16612048, 0.24453905, 0.45543446, 0.6804079 , 0.70939579,\n",
       "        0.71062191, 0.87570637],\n",
       "       [0.1652108 , 0.24215307, 0.44049553, 0.66221889, 0.68721594,\n",
       "        0.7015017 , 0.8567989 ],\n",
       "       [0.16469691, 0.24047671, 0.42654931, 0.64131034, 0.66839315,\n",
       "        0.69493591, 0.84102427],\n",
       "       [0.16386943, 0.23817603, 0.41020651, 0.60886314, 0.64648648,\n",
       "        0.68487985, 0.82277496],\n",
       "       [0.16348594, 0.23667287, 0.395744  , 0.57051337, 0.62844343,\n",
       "        0.67785508, 0.80787402],\n",
       "       [0.16355658, 0.2359771 , 0.38323218, 0.52598673, 0.61406916,\n",
       "        0.67399998, 0.79624139],\n",
       "       [0.16393001, 0.23577869, 0.37193231, 0.47868402, 0.60160443,\n",
       "        0.6717776 , 0.78632437]])"
      ]
     },
     "execution_count": 124,
     "metadata": {},
     "output_type": "execute_result"
    }
   ],
   "source": [
    "r * b_s_base + w * n_base * p.e"
   ]
  },
  {
   "cell_type": "code",
   "execution_count": 63,
   "metadata": {},
   "outputs": [
    {
     "ename": "ValueError",
     "evalue": "operands could not be broadcast together with shapes (80,) (80,7) ",
     "output_type": "error",
     "traceback": [
      "\u001b[0;31m---------------------------------------------------------------------------\u001b[0m",
      "\u001b[0;31mValueError\u001b[0m                                Traceback (most recent call last)",
      "\u001b[0;32m<ipython-input-63-1041a299dd43>\u001b[0m in \u001b[0;36m<module>\u001b[0;34m\u001b[0m\n\u001b[1;32m      9\u001b[0m     \u001b[0me\u001b[0m\u001b[0;34m=\u001b[0m\u001b[0mp\u001b[0m\u001b[0;34m.\u001b[0m\u001b[0me\u001b[0m\u001b[0;34m[\u001b[0m\u001b[0;34m:\u001b[0m\u001b[0;34m,\u001b[0m \u001b[0mj\u001b[0m\u001b[0;34m]\u001b[0m\u001b[0;34m,\u001b[0m\u001b[0;34m\u001b[0m\u001b[0;34m\u001b[0m\u001b[0m\n\u001b[1;32m     10\u001b[0m     \u001b[0metr_params\u001b[0m\u001b[0;34m=\u001b[0m\u001b[0mreform_params\u001b[0m\u001b[0;34m.\u001b[0m\u001b[0metr_params\u001b[0m\u001b[0;34m[\u001b[0m\u001b[0;34m-\u001b[0m\u001b[0;36m1\u001b[0m\u001b[0;34m,\u001b[0m \u001b[0;34m:\u001b[0m\u001b[0;34m,\u001b[0m \u001b[0;34m:\u001b[0m\u001b[0;34m]\u001b[0m\u001b[0;34m,\u001b[0m\u001b[0;34m\u001b[0m\u001b[0;34m\u001b[0m\u001b[0m\n\u001b[0;32m---> 11\u001b[0;31m     p=p)\n\u001b[0m",
      "\u001b[0;32m~/UBICenter/dynamic/ubi-ogusa/lib/python3.7/site-packages/ogusa/tax.py\u001b[0m in \u001b[0;36mnet_taxes\u001b[0;34m(r, w, b, n, bq, factor, tr, theta, t, j, shift, method, e, etr_params, p)\u001b[0m\n\u001b[1;32m    362\u001b[0m \u001b[0;34m\u001b[0m\u001b[0m\n\u001b[1;32m    363\u001b[0m     '''\n\u001b[0;32m--> 364\u001b[0;31m     \u001b[0mT_I\u001b[0m \u001b[0;34m=\u001b[0m \u001b[0mincome_tax_liab\u001b[0m\u001b[0;34m(\u001b[0m\u001b[0mr\u001b[0m\u001b[0;34m,\u001b[0m \u001b[0mw\u001b[0m\u001b[0;34m,\u001b[0m \u001b[0mb\u001b[0m\u001b[0;34m,\u001b[0m \u001b[0mn\u001b[0m\u001b[0;34m,\u001b[0m \u001b[0mfactor\u001b[0m\u001b[0;34m,\u001b[0m \u001b[0mt\u001b[0m\u001b[0;34m,\u001b[0m \u001b[0mj\u001b[0m\u001b[0;34m,\u001b[0m \u001b[0mmethod\u001b[0m\u001b[0;34m,\u001b[0m \u001b[0me\u001b[0m\u001b[0;34m,\u001b[0m \u001b[0metr_params\u001b[0m\u001b[0;34m,\u001b[0m \u001b[0mp\u001b[0m\u001b[0;34m)\u001b[0m\u001b[0;34m\u001b[0m\u001b[0;34m\u001b[0m\u001b[0m\n\u001b[0m\u001b[1;32m    365\u001b[0m     \u001b[0mpension\u001b[0m \u001b[0;34m=\u001b[0m \u001b[0mpension_amount\u001b[0m\u001b[0;34m(\u001b[0m\u001b[0mw\u001b[0m\u001b[0;34m,\u001b[0m \u001b[0mn\u001b[0m\u001b[0;34m,\u001b[0m \u001b[0mtheta\u001b[0m\u001b[0;34m,\u001b[0m \u001b[0mt\u001b[0m\u001b[0;34m,\u001b[0m \u001b[0mj\u001b[0m\u001b[0;34m,\u001b[0m \u001b[0mshift\u001b[0m\u001b[0;34m,\u001b[0m \u001b[0mmethod\u001b[0m\u001b[0;34m,\u001b[0m \u001b[0me\u001b[0m\u001b[0;34m,\u001b[0m \u001b[0mp\u001b[0m\u001b[0;34m)\u001b[0m\u001b[0;34m\u001b[0m\u001b[0;34m\u001b[0m\u001b[0m\n\u001b[1;32m    366\u001b[0m     \u001b[0mT_BQ\u001b[0m \u001b[0;34m=\u001b[0m \u001b[0mbequest_tax_liab\u001b[0m\u001b[0;34m(\u001b[0m\u001b[0mr\u001b[0m\u001b[0;34m,\u001b[0m \u001b[0mb\u001b[0m\u001b[0;34m,\u001b[0m \u001b[0mbq\u001b[0m\u001b[0;34m,\u001b[0m \u001b[0mt\u001b[0m\u001b[0;34m,\u001b[0m \u001b[0mj\u001b[0m\u001b[0;34m,\u001b[0m \u001b[0mmethod\u001b[0m\u001b[0;34m,\u001b[0m \u001b[0mp\u001b[0m\u001b[0;34m)\u001b[0m\u001b[0;34m\u001b[0m\u001b[0;34m\u001b[0m\u001b[0m\n",
      "\u001b[0;32m~/UBICenter/dynamic/ubi-ogusa/lib/python3.7/site-packages/ogusa/tax.py\u001b[0m in \u001b[0;36mincome_tax_liab\u001b[0;34m(r, w, b, n, factor, t, j, method, e, etr_params, p)\u001b[0m\n\u001b[1;32m    406\u001b[0m             \u001b[0mw\u001b[0m \u001b[0;34m=\u001b[0m \u001b[0mutils\u001b[0m\u001b[0;34m.\u001b[0m\u001b[0mto_timepath_shape\u001b[0m\u001b[0;34m(\u001b[0m\u001b[0mw\u001b[0m\u001b[0;34m)\u001b[0m\u001b[0;34m\u001b[0m\u001b[0;34m\u001b[0m\u001b[0m\n\u001b[1;32m    407\u001b[0m \u001b[0;34m\u001b[0m\u001b[0m\n\u001b[0;32m--> 408\u001b[0;31m     \u001b[0mincome\u001b[0m \u001b[0;34m=\u001b[0m \u001b[0mr\u001b[0m \u001b[0;34m*\u001b[0m \u001b[0mb\u001b[0m \u001b[0;34m+\u001b[0m \u001b[0mw\u001b[0m \u001b[0;34m*\u001b[0m \u001b[0me\u001b[0m \u001b[0;34m*\u001b[0m \u001b[0mn\u001b[0m\u001b[0;34m\u001b[0m\u001b[0;34m\u001b[0m\u001b[0m\n\u001b[0m\u001b[1;32m    409\u001b[0m     \u001b[0mlabor_income\u001b[0m \u001b[0;34m=\u001b[0m \u001b[0mw\u001b[0m \u001b[0;34m*\u001b[0m \u001b[0me\u001b[0m \u001b[0;34m*\u001b[0m \u001b[0mn\u001b[0m\u001b[0;34m\u001b[0m\u001b[0;34m\u001b[0m\u001b[0m\n\u001b[1;32m    410\u001b[0m     \u001b[0mT_I\u001b[0m \u001b[0;34m=\u001b[0m \u001b[0mETR_income\u001b[0m\u001b[0;34m(\u001b[0m\u001b[0mr\u001b[0m\u001b[0;34m,\u001b[0m \u001b[0mw\u001b[0m\u001b[0;34m,\u001b[0m \u001b[0mb\u001b[0m\u001b[0;34m,\u001b[0m \u001b[0mn\u001b[0m\u001b[0;34m,\u001b[0m \u001b[0mfactor\u001b[0m\u001b[0;34m,\u001b[0m \u001b[0me\u001b[0m\u001b[0;34m,\u001b[0m \u001b[0metr_params\u001b[0m\u001b[0;34m,\u001b[0m \u001b[0mp\u001b[0m\u001b[0;34m)\u001b[0m \u001b[0;34m*\u001b[0m \u001b[0mincome\u001b[0m\u001b[0;34m\u001b[0m\u001b[0;34m\u001b[0m\u001b[0m\n",
      "\u001b[0;31mValueError\u001b[0m: operands could not be broadcast together with shapes (80,) (80,7) "
     ]
    }
   ],
   "source": [
    "j = 0  # Try a list or None later to get all lifetime skill levels.\n",
    "net_tax_ubi = ogusa.tax.net_taxes(\n",
    "    r=r, w=w, b=b_s_base, n=n_base, bq=bq_base, factor=factor,\n",
    "    tr=tr_base, theta=theta_base,\n",
    "    t=None,\n",
    "    j=j,\n",
    "    shift=False,\n",
    "    method='SS',\n",
    "    e=p.e[:, j],\n",
    "    etr_params=reform_params.etr_params[-1, :, :],\n",
    "    p=p)"
   ]
  },
  {
   "cell_type": "code",
   "execution_count": 125,
   "metadata": {},
   "outputs": [
    {
     "ename": "ValueError",
     "evalue": "operands could not be broadcast together with shapes (80,) (80,7) ",
     "output_type": "error",
     "traceback": [
      "\u001b[0;31m---------------------------------------------------------------------------\u001b[0m",
      "\u001b[0;31mValueError\u001b[0m                                Traceback (most recent call last)",
      "\u001b[0;32m<ipython-input-125-62fb9fbffc61>\u001b[0m in \u001b[0;36m<module>\u001b[0;34m\u001b[0m\n\u001b[1;32m      8\u001b[0m     \u001b[0me\u001b[0m\u001b[0;34m=\u001b[0m\u001b[0mp\u001b[0m\u001b[0;34m.\u001b[0m\u001b[0me\u001b[0m\u001b[0;34m,\u001b[0m\u001b[0;34m\u001b[0m\u001b[0;34m\u001b[0m\u001b[0m\n\u001b[1;32m      9\u001b[0m     \u001b[0metr_params\u001b[0m\u001b[0;34m=\u001b[0m\u001b[0mreform_params\u001b[0m\u001b[0;34m.\u001b[0m\u001b[0metr_params\u001b[0m\u001b[0;34m[\u001b[0m\u001b[0;34m-\u001b[0m\u001b[0;36m1\u001b[0m\u001b[0;34m,\u001b[0m \u001b[0;34m:\u001b[0m\u001b[0;34m,\u001b[0m \u001b[0;34m:\u001b[0m\u001b[0;34m]\u001b[0m\u001b[0;34m,\u001b[0m\u001b[0;34m\u001b[0m\u001b[0;34m\u001b[0m\u001b[0m\n\u001b[0;32m---> 10\u001b[0;31m     p=p)\n\u001b[0m",
      "\u001b[0;32m~/UBICenter/dynamic/ubi-ogusa/lib/python3.7/site-packages/ogusa/tax.py\u001b[0m in \u001b[0;36mnet_taxes\u001b[0;34m(r, w, b, n, bq, factor, tr, theta, t, j, shift, method, e, etr_params, p)\u001b[0m\n",
      "\u001b[0;32m~/UBICenter/dynamic/ubi-ogusa/lib/python3.7/site-packages/ogusa/tax.py\u001b[0m in \u001b[0;36mincome_tax_liab\u001b[0;34m(r, w, b, n, factor, t, j, method, e, etr_params, p)\u001b[0m\n",
      "\u001b[0;32m~/UBICenter/dynamic/ubi-ogusa/lib/python3.7/site-packages/ogusa/tax.py\u001b[0m in \u001b[0;36mETR_income\u001b[0;34m(r, w, b, n, factor, e, etr_params, p)\u001b[0m\n",
      "\u001b[0;31mValueError\u001b[0m: operands could not be broadcast together with shapes (80,) (80,7) "
     ]
    }
   ],
   "source": [
    "net_tax_ubi = ogusa.tax.net_taxes(\n",
    "    r=r, w=w, b=b_s_base, n=n_base, bq=bq_base, factor=factor,\n",
    "    tr=tr_base, theta=theta_base,\n",
    "    t=None,\n",
    "    j=None,\n",
    "    shift=False,\n",
    "    method='SS',\n",
    "    e=p.e,\n",
    "    etr_params=reform_params.etr_params[-1, :, :],\n",
    "    p=p)"
   ]
  },
  {
   "cell_type": "code",
   "execution_count": null,
   "metadata": {},
   "outputs": [],
   "source": []
  }
 ],
 "metadata": {
  "kernelspec": {
   "display_name": "Python 3",
   "language": "python",
   "name": "python3"
  },
  "language_info": {
   "codemirror_mode": {
    "name": "ipython",
    "version": 3
   },
   "file_extension": ".py",
   "mimetype": "text/x-python",
   "name": "python",
   "nbconvert_exporter": "python",
   "pygments_lexer": "ipython3",
   "version": "3.7.8"
  }
 },
 "nbformat": 4,
 "nbformat_minor": 4
}
